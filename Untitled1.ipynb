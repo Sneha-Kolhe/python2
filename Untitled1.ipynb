{
 "cells": [
  {
   "cell_type": "markdown",
   "id": "152f2dd6-c5c2-46c4-958f-4aac5d1cfd27",
   "metadata": {},
   "source": [
    "##Q1. What are the characteristics of the tuples? Is tuple immutable?"
   ]
  },
  {
   "cell_type": "code",
   "execution_count": null,
   "id": "6c47b854-6660-4676-98c7-096912f989a5",
   "metadata": {},
   "outputs": [],
   "source": [
    "\n",
    "Tuples are ordered collections of elements, similar to lists. However, they have several characteristics that distinguish them:\n",
    "\n",
    "Ordered: Tuples maintain the order of elements as they are inserted. The order of elements in a tuple is preserved.\n",
    "\n",
    "Indexed: Elements in a tuple can be accessed using indices. Indexing starts from 0, similar to lists.\n",
    "\n",
    "Heterogeneous: Tuples can contain elements of different data types (e.g., integers, floats, strings, other tuples, etc.).\n",
    "\n",
    "Immutable: One of the key characteristics of tuples is that they are immutable. Once a tuple is created, its elements cannot be modified, added, or removed. However, if an element is mutable (such as a list), it can be modified within the tuple.\n",
    "\n",
    "Hashable: Tuples are hashable, which means they can be used as keys in dictionaries and elements in sets, provided that all the elements inside the tuple are also hashable.\n",
    "\n",
    "To answer your question directly: Yes, tuples are immutable. Once a tuple is created, you cannot change its elements. However, if an element of the tuple is mutable (like a list), you can modify that mutable object within the tuple, but you cannot reassign the element itself or change the size of the tuple."
   ]
  },
  {
   "cell_type": "markdown",
   "id": "8fca4faf-57dc-40d0-87df-a3609b80afa2",
   "metadata": {},
   "source": [
    "## Q2.What are the two tuple methods in python? Give an example of each method. Give a reason why\n",
    "tuples have only two in-built methods as compared to Lists.\n",
    "ChatGPT\n"
   ]
  },
  {
   "cell_type": "code",
   "execution_count": null,
   "id": "69b5bbe7-482b-4b36-83e3-df9fcd795881",
   "metadata": {},
   "outputs": [],
   "source": [
    "In Python, tuples have two built-in methods:\n",
    "\n",
    "count(): This method returns the number of occurrences of a specified value within the tuple.\n",
    "Example:\n",
    "\n",
    "my_tuple = (1, 2, 3, 1, 4, 1)\n",
    "count_of_1 = my_tuple.count(1)\n",
    "print(count_of_1)  # Output: 3\n",
    "index(): This method returns the index of the first occurrence of a specified value within the tuple.\n",
    "Example:\n",
    "\n",
    "my_tuple = ('a', 'b', 'c', 'b', 'd')\n",
    "index_of_b = my_tuple.index('b')\n",
    "print(index_of_b)  # Output: 1\n",
    "The reason tuples have only two built-in methods compared to lists is primarily due to their immutability. Since tuples are immutable, there is no need for methods that modify the tuple in place, such as append(), insert(), remove(), or pop(), which are available for lists. These methods alter the list, which is not permissible for tuples.\n",
    "\n",
    "Lists, on the other hand, have methods for modifying their contents because they are mutable. This mutability allows for dynamic resizing, appending, inserting, and removing elements, hence necessitating more built-in methods to handle such operations.\n",
    "\n",
    "\n",
    "\n",
    "\n"
   ]
  },
  {
   "cell_type": "markdown",
   "id": "e29dda6a-737d-45ad-a19a-c7438169fd6b",
   "metadata": {},
   "source": [
    "\n",
    "## Q3. Which collection datatypes in python do not allow duplicate items? Write a code using a set to remove\n",
    "duplicates from the given list.\n",
    "\n"
   ]
  },
  {
   "cell_type": "code",
   "execution_count": null,
   "id": "c55696be-0d4b-492a-ae33-572ce07652b5",
   "metadata": {},
   "outputs": [],
   "source": [
    "In Python, the collection datatype that does not allow duplicate items is the set. Sets are unordered collections of unique elements. If you try to add a duplicate element to a set, it will simply ignore it.\n",
    "\n",
    "Here's a code using a set to remove duplicates from a given list:\n",
    "\n",
    "my_list = [1, 2, 3, 4, 2, 3, 5, 6, 1]\n",
    "unique_elements = set(my_list)\n",
    "unique_list = list(unique_elements)\n",
    "print(unique_list)\n",
    "Output:\n",
    "\n",
    "[1, 2, 3, 4, 5, 6]\n",
    "In this code:\n",
    "\n",
    "my_list contains duplicate elements.\n",
    "set(my_list) creates a set from my_list, which automatically removes duplicates.\n",
    "list(unique_elements) converts the set back to a list, preserving the unique elements in the original order.\n",
    "So, unique_list contains only the unique elements from my_list."
   ]
  },
  {
   "cell_type": "markdown",
   "id": "2cc9d5ea-534e-443c-87b1-4d60b57f3c04",
   "metadata": {},
   "source": [
    "## Q4. Explain the difference between the union() and update() methods for a set. Give an example of\n",
    "each method."
   ]
  },
  {
   "cell_type": "code",
   "execution_count": null,
   "id": "06a4c643-37af-4f2b-89fa-9a8b22e97151",
   "metadata": {},
   "outputs": [],
   "source": [
    "Both union() and update() methods in Python are used to combine sets, but they differ in their behavior:\n",
    "\n",
    "union() Method:\n",
    "\n",
    "The union() method returns a new set containing all the unique elements from both sets.\n",
    "It does not modify the original sets.\n",
    "If there are duplicate elements, only one copy of each element is included in the resulting set.\n",
    "This method can take multiple sets as arguments.\n",
    "Example:\n",
    "\n",
    "set1 = {1, 2, 3}\n",
    "set2 = {3, 4, 5}\n",
    "union_set = set1.union(set2)\n",
    "print(union_set)  # Output: {1, 2, 3, 4, 5}\n",
    "update() Method:\n",
    "\n",
    "The update() method modifies the original set by adding all elements from another iterable (e.g., another set, list, tuple, etc.).\n",
    "It directly modifies the set on which it is called.\n",
    "If there are duplicate elements in the iterable being added, only one copy of each element is included in the updated set.\n",
    "Example:\n",
    "\n",
    "set1 = {1, 2, 3}\n",
    "set2 = {3, 4, 5}\n",
    "set1.update(set2)\n",
    "print(set1)  # Output: {1, 2, 3, 4, 5}\n",
    "In summary, the union() method returns a new set containing the union of two sets without modifying the original sets, while the update() method modifies the original set by adding elements from another iterable.\n",
    "\n"
   ]
  },
  {
   "cell_type": "markdown",
   "id": "70571371-2b47-4b8d-aff4-2de0bd3375c2",
   "metadata": {},
   "source": [
    "\n",
    "## Q5. What is a dictionary? Give an example. Also, state whether a dictionary is ordered or unordered"
   ]
  },
  {
   "cell_type": "code",
   "execution_count": null,
   "id": "cf14c265-6fd0-4b4b-9250-aed34f6ee6d3",
   "metadata": {},
   "outputs": [],
   "source": [
    "A dictionary in Python is an unordered collection of data in a key-value pair format. Each element in a dictionary is represented by a key-value pair, where the key is unique and immutable, and it is used to access the corresponding value. Dictionaries are often used when you need to store data in a way that allows for efficient lookup and retrieval based on a specific key.\n",
    "\n",
    "Here's an example of a dictionary:\n",
    "\n",
    "\n",
    "my_dict = {\n",
    "    \"name\": \"John\",\n",
    "    \"age\": 30,\n",
    "    \"city\": \"New York\"\n",
    "}\n",
    "In this example:\n",
    "\n",
    "\"name\", \"age\", and \"city\" are keys.\n",
    "\"John\", 30, and \"New York\" are the corresponding values.\n",
    "Each key-value pair is separated by a colon (:).\n",
    "Key-value pairs are separated by commas (,).\n",
    "The entire dictionary is enclosed within curly braces {}.\n",
    "Dictionaries are unordered collections, which means that the order in which the key-value pairs are stored is not guaranteed. However, starting from Python 3.7, dictionaries maintain the insertion order of their keys. This means that when iterating over a dictionary, the items will be returned in the order in which they were inserted. In Python 3.6 and earlier versions, dictionaries are unordered, and the order of key-value pairs may not be preserved.\n",
    "\n"
   ]
  },
  {
   "cell_type": "markdown",
   "id": "cd3bccc4-f5d0-4642-aa9c-8f0da040e65c",
   "metadata": {},
   "source": [
    "## Q6. Can we create a nested dictionary? If so, please give an example by creating a simple one-level\n",
    "nested dictionary."
   ]
  },
  {
   "cell_type": "code",
   "execution_count": null,
   "id": "e6e6b3aa-9867-412f-9e49-cfcb7699741f",
   "metadata": {},
   "outputs": [],
   "source": [
    "Yes, we can create a nested dictionary in Python. A nested dictionary is a dictionary where the values are also dictionaries. This allows for organizing data in a hierarchical structure.\n",
    "\n",
    "Here's an example of a simple one-level nested dictionary:\n",
    "\n",
    "# Creating a nested dictionary\n",
    "employee_details = {\n",
    "    \"John\": {\"age\": 30, \"city\": \"New York\"},\n",
    "    \"Alice\": {\"age\": 25, \"city\": \"San Francisco\"},\n",
    "    \"Bob\": {\"age\": 35, \"city\": \"Los Angeles\"}\n",
    "}\n",
    "In this example:\n",
    "\n",
    "employee_details is a dictionary where the keys are the names of employees.\n",
    "Each value in employee_details is another dictionary containing the details of the corresponding employee.\n",
    "The nested dictionaries contain keys \"age\" and \"city\" with their respective values.\n",
    "Accessing the data in a nested dictionary involves using multiple keys. For example:\n",
    "\n",
    "# Accessing data from the nested dictionary\n",
    "print(employee_details[\"John\"][\"age\"])   # Output: 30\n",
    "print(employee_details[\"Alice\"][\"city\"]) # Output: San Francisco\n",
    "This demonstrates how to access the age of John and the city of Alice from the nested dictionary employee_details.\n",
    "\n",
    "\n"
   ]
  },
  {
   "cell_type": "code",
   "execution_count": null,
   "id": "f8e59066-59fc-4412-ac31-fffe8bc4b6b0",
   "metadata": {},
   "outputs": [],
   "source": [
    "Q7. Using setdefault() method, create key named topics in the given dictionary and also add the value of\n",
    "the key as this list ['Python', 'Machine Learning’, 'Deep Learning']"
   ]
  }
 ],
 "metadata": {
  "kernelspec": {
   "display_name": "Python 3 (ipykernel)",
   "language": "python",
   "name": "python3"
  },
  "language_info": {
   "codemirror_mode": {
    "name": "ipython",
    "version": 3
   },
   "file_extension": ".py",
   "mimetype": "text/x-python",
   "name": "python",
   "nbconvert_exporter": "python",
   "pygments_lexer": "ipython3",
   "version": "3.10.8"
  }
 },
 "nbformat": 4,
 "nbformat_minor": 5
}
